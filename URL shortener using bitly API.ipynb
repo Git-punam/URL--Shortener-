{
 "cells": [
  {
   "cell_type": "code",
   "execution_count": 6,
   "metadata": {},
   "outputs": [
    {
     "name": "stdout",
     "output_type": "stream",
     "text": [
      "https://bit.ly/2XOoynk\n"
     ]
    }
   ],
   "source": [
    "import bitly_api\n",
    "\n",
    "BITLY_ACCESS_TOKEN =\"ENTER THE ACCESS TOKEN HERE\" \n",
    "  \n",
    "b = bitly_api.Connection(access_token = BITLY_ACCESS_TOKEN)\n",
    "  \n",
    "response = b.shorten('http://google.com/')\n",
    "print(response[\"url\"]) "
   ]
  }
 ],
 "metadata": {
  "kernelspec": {
   "display_name": "Python 3",
   "language": "python",
   "name": "python3"
  },
  "language_info": {
   "codemirror_mode": {
    "name": "ipython",
    "version": 3
   },
   "file_extension": ".py",
   "mimetype": "text/x-python",
   "name": "python",
   "nbconvert_exporter": "python",
   "pygments_lexer": "ipython3",
   "version": "3.8.5"
  }
 },
 "nbformat": 4,
 "nbformat_minor": 4
}
